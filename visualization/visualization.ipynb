{
 "cells": [
  {
   "cell_type": "code",
   "execution_count": 1,
   "id": "3a8027b2",
   "metadata": {
    "collapsed": true,
    "jupyter": {
     "outputs_hidden": true
    },
    "tags": []
   },
   "outputs": [
    {
     "name": "stdout",
     "output_type": "stream",
     "text": [
      "Requirement already satisfied: nichord in /opt/miniconda-latest/lib/python3.8/site-packages (0.3.0)\n",
      "Requirement already satisfied: nilearn in /opt/miniconda-latest/lib/python3.8/site-packages (from nichord) (0.10.0)\n",
      "Requirement already satisfied: scipy in /opt/miniconda-latest/lib/python3.8/site-packages (from nichord) (1.9.3)\n",
      "Requirement already satisfied: pillow in /opt/miniconda-latest/lib/python3.8/site-packages (from nichord) (9.2.0)\n",
      "Requirement already satisfied: pandas in /opt/miniconda-latest/lib/python3.8/site-packages (from nichord) (1.5.3)\n",
      "Requirement already satisfied: matplotlib in /opt/miniconda-latest/lib/python3.8/site-packages (from nichord) (3.5.3)\n",
      "Requirement already satisfied: numpy in /opt/miniconda-latest/lib/python3.8/site-packages (from nichord) (1.23.5)\n",
      "Requirement already satisfied: scikit-learn>=1.0.0 in /opt/miniconda-latest/lib/python3.8/site-packages (from nilearn->nichord) (1.2.1)\n",
      "Requirement already satisfied: lxml in /opt/miniconda-latest/lib/python3.8/site-packages (from nilearn->nichord) (4.9.1)\n",
      "Requirement already satisfied: joblib>=1.0.0 in /opt/miniconda-latest/lib/python3.8/site-packages (from nilearn->nichord) (1.2.0)\n",
      "Requirement already satisfied: requests>=2.25.0 in /opt/miniconda-latest/lib/python3.8/site-packages (from nilearn->nichord) (2.28.2)\n",
      "Requirement already satisfied: nibabel>=3.2.0 in /opt/miniconda-latest/lib/python3.8/site-packages (from nilearn->nichord) (5.0.0)\n",
      "Requirement already satisfied: python-dateutil>=2.8.1 in /opt/miniconda-latest/lib/python3.8/site-packages (from pandas->nichord) (2.8.2)\n",
      "Requirement already satisfied: pytz>=2020.1 in /opt/miniconda-latest/lib/python3.8/site-packages (from pandas->nichord) (2022.7.1)\n",
      "Requirement already satisfied: pyparsing>=2.2.1 in /opt/miniconda-latest/lib/python3.8/site-packages (from matplotlib->nichord) (3.0.9)\n",
      "Requirement already satisfied: fonttools>=4.22.0 in /opt/miniconda-latest/lib/python3.8/site-packages (from matplotlib->nichord) (4.35.0)\n",
      "Requirement already satisfied: cycler>=0.10 in /opt/miniconda-latest/lib/python3.8/site-packages (from matplotlib->nichord) (0.11.0)\n",
      "Requirement already satisfied: packaging>=20.0 in /opt/miniconda-latest/lib/python3.8/site-packages (from matplotlib->nichord) (23.0)\n",
      "Requirement already satisfied: kiwisolver>=1.0.1 in /opt/miniconda-latest/lib/python3.8/site-packages (from matplotlib->nichord) (1.4.4)\n",
      "Requirement already satisfied: threadpoolctl>=2.0.0 in /opt/miniconda-latest/lib/python3.8/site-packages (from scikit-learn>=1.0.0->nilearn->nichord) (3.1.0)\n",
      "Requirement already satisfied: urllib3<1.27,>=1.21.1 in /opt/miniconda-latest/lib/python3.8/site-packages (from requests>=2.25.0->nilearn->nichord) (1.25.10)\n",
      "Requirement already satisfied: idna<4,>=2.5 in /opt/miniconda-latest/lib/python3.8/site-packages (from requests>=2.25.0->nilearn->nichord) (2.10)\n",
      "Requirement already satisfied: charset-normalizer<4,>=2 in /opt/miniconda-latest/lib/python3.8/site-packages (from requests>=2.25.0->nilearn->nichord) (3.0.1)\n",
      "Requirement already satisfied: certifi>=2017.4.17 in /opt/miniconda-latest/lib/python3.8/site-packages (from requests>=2.25.0->nilearn->nichord) (2022.12.7)\n",
      "Requirement already satisfied: setuptools in /opt/miniconda-latest/lib/python3.8/site-packages (from nibabel>=3.2.0->nilearn->nichord) (49.6.0.post20200814)\n",
      "Requirement already satisfied: six>=1.5 in /opt/miniconda-latest/lib/python3.8/site-packages (from python-dateutil>=2.8.1->pandas->nichord) (1.15.0)\n"
     ]
    }
   ],
   "source": [
    "!pip install nichord"
   ]
  },
  {
   "cell_type": "code",
   "execution_count": 2,
   "id": "81415001",
   "metadata": {},
   "outputs": [],
   "source": [
    "from nichord.chord import plot_chord\n",
    "from nichord.glassbrain import plot_glassbrain\n",
    "from nichord.combine import combine_imgs, plot_and_combine\n",
    "from nichord.coord_labeler import get_idx_to_label"
   ]
  },
  {
   "cell_type": "code",
   "execution_count": 3,
   "id": "f56e1411",
   "metadata": {},
   "outputs": [],
   "source": [
    "import pandas as pd\n",
    "import json\n",
    "import pandas as pd\n",
    "from sklearn.linear_model import LogisticRegression\n",
    "from sklearn.metrics import f1_score, accuracy_score, roc_auc_score\n",
    "from collections import defaultdict\n",
    "from pathlib import Path\n",
    "import os\n",
    "import itertools \n",
    "import numpy as np\n",
    "import random\n",
    "from sklearn.model_selection import GridSearchCV\n",
    "from sklearn.pipeline import Pipeline\n",
    "from sklearn.preprocessing import StandardScaler\n",
    "from sklearn.ensemble import VotingClassifier, RandomForestClassifier\n",
    "from sklearn.svm import SVC\n",
    "from sklearn.feature_selection import VarianceThreshold\n",
    "from sklearn.base import TransformerMixin, BaseEstimator\n",
    "from sklearn.feature_selection import SelectFromModel\n",
    "from sklearn.pipeline import Pipeline\n",
    "from sklearn.model_selection import cross_val_score, StratifiedKFold\n",
    "from xgboost import XGBClassifier\n",
    "from sklearn.feature_selection import SelectKBest, f_classif\n",
    "from sklearn.decomposition import PCA\n",
    "from sklearn.metrics import f1_score\n",
    "from sklearn.model_selection import train_test_split\n",
    "import seaborn as sns\n",
    "from sklearn.metrics import roc_auc_score, make_scorer\n",
    "import matplotlib.pyplot as plt\n",
    "import warnings\n",
    "warnings.filterwarnings(\"ignore\")"
   ]
  },
  {
   "cell_type": "markdown",
   "id": "7afbe83b",
   "metadata": {},
   "source": [
    "# COBRE HC-SZ"
   ]
  },
  {
   "cell_type": "code",
   "execution_count": 4,
   "id": "ea66817b",
   "metadata": {},
   "outputs": [
    {
     "name": "stdout",
     "output_type": "stream",
     "text": [
      "Example 0 done\n"
     ]
    },
    {
     "data": {
      "text/plain": [
       "<Figure size 1500x1500 with 0 Axes>"
      ]
     },
     "metadata": {},
     "output_type": "display_data"
    }
   ],
   "source": [
    "if __name__ == '__main__':\n",
    "\n",
    "    original_edges = [(0, 1), (2, 3), (4, 5), (2, 6), (7, 8), (9, 10), (11, 3), \n",
    "                      (12, 13), (14, 15), (16, 17)]\n",
    "    \n",
    "    # Remove duplicates: sort each tuple and then convert to set to remove duplicates, then back to list\n",
    "    edges = list(set(tuple(sorted(edge)) for edge in original_edges))\n",
    "\n",
    "    edge_weights = [0.5, 0.33, 0.09, 0.21, 0.29, 0.38, 0.23,\n",
    "                    0.08, 0.13, 0.39, 0.57]  \n",
    "\n",
    "    idx_to_label = {0: 'Insula', 1:'FIO_R', 2:'Heschl', 3:'Caudate', 4:'TPM_L', \n",
    "                    5:'ParInf_R', 6: 'FMO_L', 7:'Cereb6', 8:'Cereb3', \n",
    "                    9:'SupMA_R', 10:'RO_L', 11:'Cereb8', 12:'Vermis', 13:'FM_L', \n",
    "                    14:'SupraM_R', 15:'ParaHipp', 16:'OccI_L', 17:'OccSup_R'}\n",
    "#                     18:'Temporal_Mid_R', 19:'Temporal_Sup_L', 20: 'Frontal_Med_Orb_L', 21: 'Frontal_Med_Orb_R', 22: 'Cerebelum_9_L', \n",
    "#                     23: 'Caudate_L', 24: 'SupraMarginal_L', 25:'Rectus_L', 26:'Angular_R', 27: 'Occipital_Inf_R'} \n",
    "    \n",
    "    coords = [[-35, 7, 3], [50, 15, 21], [46, -17, 10], [15, 12, 9], [-36, 15, -34], [46, -46, 50], [-31, 50, -10],\n",
    "             [-22, -59, -22], [-8, -37, -19], [9, 0, 62], [-47, -8, 14], [-25, -55, -48], [2, -52, -6], [-33, 33, 35],\n",
    "              [58, -32, 34], [-21, -16, -21], [-36, -78, -8], [24, -81, 31]]\n",
    "\n",
    "\n",
    "\n",
    "    network_colors = {'Insula': 'olive', 'FIO_R': 'purple',\n",
    "                  'Heschl': 'darkturquoise', 'Caudate': 'teal', 'TPM_L': 'black',\n",
    "                  'ParInf_R': 'burlywood', 'FMO_L': 'orchid', 'Cereb6': 'red',                     \n",
    "                  'Cereb3': 'orange', 'SupMA_R': 'coral', 'RO_L': 'indigo', 'Cereb8': 'lime',\n",
    "                  'Vermis': 'blue', 'FM_L': 'goldenrod', 'SupraM_R': 'gold',\n",
    "                  'ParaHipp': 'violet', 'OccI_L': 'pink', 'OccSup_R': 'brown'}\n",
    "    \n",
    "    network_order = ['Insula', 'TPM_L', 'FIO_R', 'Caudate', 'SupMA_R',\n",
    "                     'ParInf_R', 'Heschl', 'Cereb6', 'ParaHipp', 'Cereb3',\n",
    "                     'OccI_L', 'RO_L', 'Vermis', 'Cereb8', 'FM_L',\n",
    "                     'SupraM_R', 'OccSup_R', 'FMO_L']\n",
    "\n",
    "\n",
    "    if len(set(edge_weights)) == 1: \n",
    "        edge_weights[0] += 0.01 \n",
    "\n",
    "    vmin, vmax = min(edge_weights), max(edge_weights)\n",
    "    if vmin == vmax:  \n",
    "        vmax += 0.01  \n",
    "\n",
    "\n",
    "    fp_chord = './poster_COBRE_HC_chord_new.png'\n",
    "    fp_glass = './poster_COBRE_HC_glass_new.png'\n",
    "\n",
    "\n",
    "    plot_chord(idx_to_label, edges, edge_weights=edge_weights,\n",
    "               coords=None, network_order=network_order,\n",
    "               network_colors=network_colors, linewidths=12,\n",
    "               alphas=0.9, label_fontsize=25,\n",
    "               fp_chord=fp_chord, do_ROI_circles=True,\n",
    "               do_ROI_circles_specific=True, ROI_circle_radius=0.01,\n",
    "               arc_setting=False, vmin=vmin, vmax=vmax)  # Pass vmin and vmax\n",
    "    \n",
    "    plot_glassbrain(idx_to_label, edges, edge_weights, fp_glass,\n",
    "                    coords, network_colors=network_colors, linewidths=10, node_size=17)\n",
    "\n",
    "    print('Example 0 done')"
   ]
  }
 ],
 "metadata": {
  "kernelspec": {
   "display_name": "Python 3 (ipykernel)",
   "language": "python",
   "name": "python3"
  },
  "language_info": {
   "codemirror_mode": {
    "name": "ipython",
    "version": 3
   },
   "file_extension": ".py",
   "mimetype": "text/x-python",
   "name": "python",
   "nbconvert_exporter": "python",
   "pygments_lexer": "ipython3",
   "version": "3.9.17"
  }
 },
 "nbformat": 4,
 "nbformat_minor": 5
}
